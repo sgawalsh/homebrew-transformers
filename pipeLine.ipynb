{
 "cells": [
  {
   "cell_type": "markdown",
   "id": "f754539f",
   "metadata": {},
   "source": [
    "# End-To-End Data Pipeline\n",
    "\n",
    "### Introduction\n",
    "\n",
    "In this notebook we'll be showing how the data is processed by the model from the initial sentence in the source language. We'll see how the tokenized representation of the sentence is generated and fed to the model, then follow this data as it is processed to generate the model's tokenized output in the target language, then finally perform a final mapping to get our target language representation.\n",
    "\n",
    "A diagram from the source paper, 'Attention is All You Need' Vaswani et al, is included below. The code that follows will be emulating how the data moves through the depicted model.\n",
    "\n",
    "![Encoder-Decoder Transformer Architecture](transformer_architecture.PNG)\n",
    "\n",
    "### Fetching the Input\n",
    "\n"
   ]
  },
  {
   "cell_type": "code",
   "execution_count": 36,
   "id": "f29e26df",
   "metadata": {},
   "outputs": [
    {
     "name": "stdout",
     "output_type": "stream",
     "text": [
      "Source: Madam President, on a point of order.\n",
      "\n",
      "Target: Madame la Présidente, c'est une motion de procédure.\n",
      "\n",
      "Token indexes: [17538, 22173, 436, 20056, 1281, 21696, 19931, 20198, 437, 1267]\n",
      "Padded indexes: [17538, 22173, 436, 20056, 1281, 21696, 19931, 20198, 437, 1267, 1268, 1268, 1268, 1268, 1268, 1268]\n",
      "Padded tokens: ['madam', 'president', ',', 'on', 'a', 'point', 'of', 'order', '.', '<eos>', '<pad>', '<pad>', '<pad>', '<pad>', '<pad>', '<pad>']\n"
     ]
    }
   ],
   "source": [
    "import os, pickle, re, math, torch, torch.nn as nn, matplotlib.pyplot as plt\n",
    "import data\n",
    "\n",
    "with open(f'{os.getcwd()}//data//europarl-v7.fr-en.en', mode='rt', encoding='utf-8') as f: # get source sentence\n",
    "        srcLine = f.readlines()[13]\n",
    "\n",
    "with open(f'{os.getcwd()}//data//europarl-v7.fr-en.fr', mode='rt', encoding='utf-8') as f: # get matching target sentence\n",
    "        tgtLine = f.readlines()[13]\n",
    "\n",
    "print(f\"Source: {srcLine}\")\n",
    "print(f\"Target: {tgtLine}\")\n",
    "\n",
    "with open(f'{os.getcwd()}//data//vocabs.pkl', 'rb') as f: # get vocabs to map to tokens\n",
    "    vocabs = pickle.load(f)\n",
    "\n",
    "src_vocab = data.vocab(vocabs['src_vocab'])\n",
    "tgt_vocab = data.vocab(vocabs['tgt_vocab'])\n",
    "\n",
    "srcLine = re.sub(r'(\\w+)([.,?!])', r'\\1 \\2', srcLine).replace('\\n','').strip().lower().split() + ['<eos>'] # seperate puncuation from words\n",
    "tokens = [src_vocab[x] for x in srcLine] # convert to embedding index\n",
    "\n",
    "print(f\"Token indexes: {tokens}\")\n",
    "\n",
    "valid_len = len(tokens)\n",
    "\n",
    "for _ in range(16 - valid_len): # padding to correct length\n",
    "       tokens.append(src_vocab[\"<pad>\"])\n",
    "\n",
    "print(f\"Padded indexes: {tokens}\")\n",
    "print(f\"Padded tokens: {[src_vocab.to_token(x) for x in tokens]}\")"
   ]
  },
  {
   "cell_type": "markdown",
   "id": "16c86f80",
   "metadata": {},
   "source": [
    "Now we have a list of the indexes which map each word to their embeddings, and we can use this as an input to our transformer. First we load the model."
   ]
  },
  {
   "cell_type": "code",
   "execution_count": 37,
   "id": "efd9ca11",
   "metadata": {},
   "outputs": [
    {
     "name": "stdout",
     "output_type": "stream",
     "text": [
      "Embeddings:\n",
      "tensor([[[-0.8865,  0.6976, -0.5275,  ...,  1.2337,  1.6797, -0.8681],\n",
      "         [ 0.5731, -0.8765,  2.3872,  ..., -1.2662,  1.0766, -0.1340],\n",
      "         [ 0.4081, -1.6859, -0.8061,  ...,  1.0407,  0.4461,  0.6636],\n",
      "         ...,\n",
      "         [ 0.3495,  0.9804,  1.2402,  ..., -1.0227,  0.0520, -0.3326],\n",
      "         [ 0.3495,  0.9804,  1.2402,  ..., -1.0227,  0.0520, -0.3326],\n",
      "         [ 0.3495,  0.9804,  1.2402,  ..., -1.0227,  0.0520, -0.3326]]],\n",
      "       grad_fn=<EmbeddingBackward0>)\n",
      "\n",
      "Shape:torch.Size([1, 16, 512])\n"
     ]
    }
   ],
   "source": [
    "import model, modelDict, warnings\n",
    "\n",
    "modelName = \"Full\"\n",
    "params = modelDict.modelDict[modelName] # loading parameters for the full model\n",
    "\n",
    "warnings.filterwarnings(\"ignore\", category=UserWarning)\n",
    "encoder = model.TransformerEncoder(len(src_vocab), params[\"num_hiddens\"], params[\"ffn_num_hiddens\"], params[\"num_heads\"], params[\"num_blks\"], params[\"dropout\"])\n",
    "decoder = model.TransformerDecoder(len(tgt_vocab), params[\"num_hiddens\"], params[\"ffn_num_hiddens\"], params[\"num_heads\"], params[\"num_blks\"], params[\"dropout\"])\n",
    "myModel = model.Seq2Seq(encoder, decoder, tgt_pad=tgt_vocab['<pad>'])\n",
    "myModel.eval()\n",
    "\n",
    "myModel.load_state_dict(torch.load(f'{os.getcwd()}//models//{modelName}'))\n",
    "\n",
    "# Now we have our model available, and can recreate the process of how our model makes predictions by accessing the underlying layers indvidually.\n",
    "\n",
    "X = myModel.encoder.embedding(torch.tensor([tokens])) # wrap our tokens in a list to give us a batch size of one, then convert to embeddings\n",
    "print(f\"Embeddings:\\n{X}\\n\")\n",
    "print(f\"Shape:{X.shape}\")\n",
    "X = myModel.encoder.pos_encoding(X * math.sqrt(params[\"num_hiddens\"])) # Since positional encoding values are between -1 and 1, the embedding values are multiplied by the square root of the embedding dimension to rescale before they are summed up"
   ]
  },
  {
   "cell_type": "markdown",
   "id": "776bfa83",
   "metadata": {},
   "source": [
    "### Encoder Block\n",
    "\n",
    "We now have our embeddings ready and can load up a transformer block and perform the self attention process."
   ]
  },
  {
   "cell_type": "code",
   "execution_count": 38,
   "id": "a8a6270b",
   "metadata": {},
   "outputs": [
    {
     "name": "stdout",
     "output_type": "stream",
     "text": [
      "Attention Matrices shape: torch.Size([8, 16, 16])\n",
      "Repeated lengths:\n",
      "tensor([10, 10, 10, 10, 10, 10, 10, 10, 10, 10, 10, 10, 10, 10, 10, 10, 10, 10,\n",
      "        10, 10, 10, 10, 10, 10, 10, 10, 10, 10, 10, 10, 10, 10, 10, 10, 10, 10,\n",
      "        10, 10, 10, 10, 10, 10, 10, 10, 10, 10, 10, 10, 10, 10, 10, 10, 10, 10,\n",
      "        10, 10, 10, 10, 10, 10, 10, 10, 10, 10, 10, 10, 10, 10, 10, 10, 10, 10,\n",
      "        10, 10, 10, 10, 10, 10, 10, 10, 10, 10, 10, 10, 10, 10, 10, 10, 10, 10,\n",
      "        10, 10, 10, 10, 10, 10, 10, 10, 10, 10, 10, 10, 10, 10, 10, 10, 10, 10,\n",
      "        10, 10, 10, 10, 10, 10, 10, 10, 10, 10, 10, 10, 10, 10, 10, 10, 10, 10,\n",
      "        10, 10])\n",
      "Head tensors shape:torch.Size([8, 16, 64])\n",
      "Concatenated heads shape:torch.Size([1, 16, 512])\n"
     ]
    },
    {
     "data": {
      "image/png": "[encoded data removed]",
      "text/plain": [
       "<Figure size 640x480 with 1 Axes>"
      ]
     },
     "metadata": {},
     "output_type": "display_data"
    }
   ],
   "source": [
    "myEncBlock = myModel.encoder.blks[0]\n",
    "\n",
    "norm_X = X\n",
    "\n",
    "def transpose_qkv(X):\n",
    "    # Shape of input X: (batch_size, no. of queries or key-value pairs, num_hiddens). Shape of output X: (batch_size, no. of queries or key-value pairs, num_heads, num_hiddens / num_heads)\n",
    "    X = X.reshape(X.shape[0], X.shape[1], params[\"num_heads\"], -1)\n",
    "    # Shape of output X: (batch_size, num_heads, no. of queries or key-value pairs, num_hiddens / num_heads)\n",
    "    X = X.permute(0, 2, 1, 3)\n",
    "    # Shape of output: (batch_size * num_heads, no. of queries or key-value pairs, num_hiddens / num_heads)\n",
    "    return X.reshape(-1, X.shape[2], X.shape[3])\n",
    "\n",
    "# we get our queries, keys, and values from the linear layers from each block\n",
    "queries = transpose_qkv(myEncBlock.attention.W_q(X))\n",
    "keys = transpose_qkv(myEncBlock.attention.W_k(X))\n",
    "values = transpose_qkv(myEncBlock.attention.W_v(X))\n",
    "\n",
    "X = torch.bmm(queries, keys.transpose(1, 2)) / math.sqrt(queries.shape[-1]) # generate our intial unmasked attention matrix for each head\n",
    "shape = X.shape # save the shape so we can return to it later\n",
    "\n",
    "print(f\"Attention Matrices shape: {X.shape}\")\n",
    "X = X.reshape(-1, shape[-1])\n",
    "valid_lens = torch.repeat_interleave(torch.tensor([valid_len]), shape[1] * params[\"num_heads\"]) # generate our tensor for the masking process\n",
    "print(f\"Repeated lengths:\\n{valid_lens}\")\n",
    "\n",
    "mask = torch.arange(1, X.size(1) + 1, dtype=torch.float32, device=X.device)[None, :] > valid_lens[:, None] # Generates a 'mask' to be applied to our attention matrix, where all values above the valid length of our input sentence are True, and all values below are False \n",
    "X[mask] = -1e6 # On the last axis, replace masked elements with a very large negative value, whose exponentiation outputs 0\n",
    "X = nn.functional.softmax(X.reshape(shape), dim=-1) # cast back to original shape and apply softmax across last dimension\n",
    "\n",
    "plt.imshow(X[0].cpu().detach().numpy(), cmap = 'hot') # sample output attention matrix of our first head\n",
    "\n",
    "X = torch.bmm(X, values) # apply our final dot product attention function to re-establish our hidden dimension\n",
    "print(f\"Head tensors shape:{X.shape}\")\n",
    "\n",
    "# Now we perform a series of reshapings and permutations to concatenate the heads for each batch along the hidden dimension\n",
    "X = X.reshape(-1, params[\"num_heads\"], X.shape[1], X.shape[2])\n",
    "X = X.permute(0, 2, 1, 3)\n",
    "X = X.reshape(X.shape[0], X.shape[1], -1)\n",
    "print(f\"Concatenated heads shape:{X.shape}\")\n",
    "\n",
    "# We have now exited the self attention part of our block and can apply our final two layers, by adding a saved residual layer, and then performing another residual addition with the result and its output with a feed forward network\n",
    "X = myEncBlock.addnorm1(norm_X, X)\n",
    "X = myEncBlock.addnorm2(X, myEncBlock.ffn(X))"
   ]
  },
  {
   "cell_type": "markdown",
   "id": "e086803b",
   "metadata": {},
   "source": [
    "During that process we were able to output a graph showing our masked attention matrix. For each row, we see how much 'attention' one word pays to each of the other words in the sentence. The values beyond the valid_len limit have been zeroed by our mask on each row, but not on each column. However by applying the same process, we ensure those values will not be considered by the decoder.\n",
    "\n",
    "This is the end of a single transformer block process, which are fed into eachother in sequence for as many blocks as have been set by the parameters. We'll move onto the decoder process from here, and take our encoder output directly from our model's encoder.\n",
    "\n",
    "### Decoder Block"
   ]
  },
  {
   "cell_type": "code",
   "execution_count": 39,
   "id": "51601b2b",
   "metadata": {},
   "outputs": [
    {
     "name": "stdout",
     "output_type": "stream",
     "text": [
      "Encoder context shape: torch.Size([1, 16, 512])\n",
      "Initial output token index: [tensor([[801]])]\n"
     ]
    }
   ],
   "source": [
    "enc_valid_lens = torch.tensor([valid_len])\n",
    "\n",
    "enc_all_outputs = myModel.encoder(torch.tensor([tokens]), torch.tensor([enc_valid_lens]))\n",
    "print(f\"Encoder context shape: {enc_all_outputs.shape}\")\n",
    "\n",
    "dec_state = [enc_all_outputs, enc_valid_lens, [None] * myModel.decoder.num_blks] # save encoder output and valid lengths to be referenced throughout process\n",
    "\n",
    "outputs = [torch.full((enc_all_outputs.shape[0], 1), tgt_vocab['<bos>'])] # initialize output sentence with '<bos>' token\n",
    "print(f\"Initial output token index: {outputs}\")"
   ]
  },
  {
   "cell_type": "markdown",
   "id": "53b0ed59",
   "metadata": {},
   "source": [
    "The prediction loop consists of feeding the decoder the most recent output values. These values are used to generate a prediction which is added to the previous set of outputs. The loop can now be run again using the most recent output until the max length is reached. Each prediction cycle involves feeding the input through n blocks (set by the parameters of the model), where each block contains of two attention blocks. The first being a self attention block using only the predicted outputs up until that point, and the second combining the output of the first block with our values from the encoder."
   ]
  },
  {
   "cell_type": "code",
   "execution_count": 40,
   "id": "2a1eb04c",
   "metadata": {},
   "outputs": [
    {
     "name": "stdout",
     "output_type": "stream",
     "text": [
      "Final predicted indicies: tensor([[26958, 24783, 34372,    19,  5287, 44077, 28495, 11204, 33580,    20,\n",
      "           802,   803,   803,   803,   803,   803]])\n",
      "Translation: ['madame', 'la', 'présidente', ',', \"c'est\", 'une', 'motion', 'de', 'procédure', '.', '<eos>', '<pad>', '<pad>', '<pad>', '<pad>', '<pad>']\n"
     ]
    },
    {
     "data": {
      "text/plain": [
       "<matplotlib.image.AxesImage at 0x2b721b3c2c0>"
      ]
     },
     "execution_count": 40,
     "metadata": {},
     "output_type": "execute_result"
    },
    {
     "data": {
      "image/png": "[encoded data removed]",
      "text/plain": [
       "<Figure size 640x480 with 1 Axes>"
      ]
     },
     "metadata": {},
     "output_type": "display_data"
    }
   ],
   "source": [
    "def decoderEmulator(X, state):\n",
    "    X = decoder.pos_encoding(decoder.embedding(X) * math.sqrt(decoder.num_hiddens)) # inputs to embeddings\n",
    "    decoder._attention_weights = [[None] * len(decoder.blks) for _ in range (2)]\n",
    "\n",
    "    for i, blk in enumerate(decoder.blks):\n",
    "        X, state = decoderBlockEmulator(blk, X, state) # we pass 'None' for the decoder valid lengths as during prediction all decoder values are considered\n",
    "        decoder._attention_weights[0][i] = blk.attention1.attention.attention_weights # Decoder self-attention weights\n",
    "        # print(blk.attention1.attention.attention_weights)\n",
    "        if not i:\n",
    "            prediction_weights.append(torch.cat((decoder._attention_weights[0][i][0], torch.zeros(1, 16 - len(decoder._attention_weights[0][i][0][0]))), 1)) # appending our decoder self attention weights to be displayed later, concatenating zeros to keep uniform length\n",
    "        decoder._attention_weights[1][i] = blk.attention2.attention.attention_weights # Encoder-decoder attention weights\n",
    "        # plt.imshow(decoder._attention_weights[1][i].cpu().detach().numpy(), cmap = 'hot')\n",
    "    \n",
    "    return decoder.dense(X), state\n",
    "\n",
    "def decoderBlockEmulator(myBlk, X, state):\n",
    "    enc_outputs, enc_valid_lens = state[0], state[1]\n",
    "    # During training, all the tokens of any output sequence are processed at the same time, so state[2][self.i] is None as initialized. When decoding any output sequence token by token during prediction, state[2][self.i] contains representations of the decoded output at the i-th block up to the current time step\n",
    "    if state[2][myBlk.i] is None:\n",
    "        key_values = X\n",
    "    else:\n",
    "        key_values = torch.cat((state[2][myBlk.i], X), dim=1) #append preds\n",
    "    state[2][myBlk.i] = key_values\n",
    "    # Self-attention\n",
    "    X2 = myBlk.attention1(X, key_values, key_values, None)\n",
    "    Y = myBlk.addnorm1(X, X2)\n",
    "    # Encoder-decoder attention. Shape of enc_outputs:\n",
    "    # (batch_size, num_steps, num_hiddens)\n",
    "    Y2 = myBlk.attention2(Y, enc_outputs, enc_outputs, enc_valid_lens)\n",
    "    Z = myBlk.addnorm2(Y, Y2)\n",
    "    return myBlk.addnorm3(Z, myBlk.ffn(Z)), state\n",
    "\n",
    "prediction_weights = []\n",
    "for _ in range(16):\n",
    "    Y, dec_state = decoderEmulator(outputs[-1], dec_state) # latest predictions\n",
    "    outputs.append(torch.argmax(Y, 2)) # append predictions\n",
    "preds = torch.concat(outputs[1:], 1)\n",
    "\n",
    "# We now have our predicted outputs and can use our target vocabulary to generate the translation\n",
    "print(f\"Final predicted indicies: {preds}\")\n",
    "translation = tgt_vocab.to_tokens(preds[0])\n",
    "print(f\"Translation: {translation}\")\n",
    "\n",
    "out = torch.cat(prediction_weights, dim=0)\n",
    "plt.imshow(out.cpu().detach().numpy(), cmap = 'hot')\n",
    "\n",
    "\n",
    "\n"
   ]
  },
  {
   "cell_type": "markdown",
   "id": "dd9a669e",
   "metadata": {},
   "source": [
    "Because only outputs that have been generated up until that point are available, only the lower left triangle of the resulting attention matrix can be populated as the upper right values are not yet available to be considered.\n",
    "\n",
    "Our final translation is generated by taking our output indexes and using our target vocabulary to generate the associated word tokens."
   ]
  }
 ],
 "metadata": {
  "kernelspec": {
   "display_name": "attention",
   "language": "python",
   "name": "python3"
  },
  "language_info": {
   "codemirror_mode": {
    "name": "ipython",
    "version": 3
   },
   "file_extension": ".py",
   "mimetype": "text/x-python",
   "name": "python",
   "nbconvert_exporter": "python",
   "pygments_lexer": "ipython3",
   "version": "3.12.2"
  }
 },
 "nbformat": 4,
 "nbformat_minor": 5
}
